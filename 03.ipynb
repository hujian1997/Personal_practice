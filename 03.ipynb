{
 "cells": [
  {
   "cell_type": "markdown",
   "source": [
    "课堂演示数据下载\n",
    "\n",
    "1. 创建NDArray数组：\n",
    "\n",
    "    1. 从列表生成数组\n",
    "\n",
    "        numpy.arrar(列表)\n",
    "        如果列表中有多种类型，则会执行强制转换。转换遵循向上兼容原则：整数->浮点数->str等各类对象\n",
    "\n",
    "    2. 用函数生成规律性数组\n",
    "\n",
    "        numpy.zeros\n",
    "        numpy.ones\n",
    "        numpy.eye\n",
    "        numpy.arange\n",
    "\n",
    "    3. 用函数生成随机数组\n",
    "\n",
    "        numpy.random.rand\n",
    "        numpy.random.randint\n",
    "        numpy.random.choice\n",
    "        ......\n",
    "\n",
    "2. list列表的元素类型可以混合多种类型，但是NDArray要求所有的元素类型完全一致。如果把一个同时包含数字与字符串两种类型元素的list列表转换为NDArray时，将通过强制转换，确保类型全部统一：list列表中的数字将转换为NDArray中的数字字符串，而字符串类型的元素保持不变。\n",
    "\n",
    "3. dtype指列表转换为NDArray之后每个元素的类型，字母“U”代表unicode字符类型，“11”表示每个元素所占的空间长度。\n",
    "\n",
    "4. 对形状长度不一致的列表不推荐进行转换操作，并且即将不被允许，因为在NDArray中二维数组必须是整齐满行满列的，不能有缺失值。例如以下的转换将引发警告：\n",
    "\n",
    "    x = [[1, 2], [1, 2, 3]]\n",
    "    a = np.array(x)\n",
    "5. numpy.zeros函数生成全部是0的数组：\n",
    "\n",
    "    1. 生成一维数组\n",
    "        a = np.zeros(10)\n",
    "    2. 通过dtype参数指定元素类型：\n",
    "        a = np.zeros(10, dtype='int')\n",
    "    3. 生成二维数组\n",
    "        a = np.zeros((3, 4), dtype='int')\n",
    "    4. 生成n维数组\n",
    "        a = np.zeros((3, 4, 5, ... ), dtype='int')\n",
    "6. numpy.ones函数生成全部是1的数组，用法同numpy.zeros：\n",
    "\n",
    "    a = np.ones(10)\n",
    "    a = np.ones((3, 4, ...), dtype='int'\n",
    "7. numpy.eye函数生成对角线为1，其他位置为0的矩阵（单位矩阵）：\n",
    "\n",
    "    a = np.eye(4, dtype='int')\n",
    "8. numpy.arange函数生成指定范围的等差数组，类似range函数：\n",
    "\n",
    "    1. 生成一维数组\n",
    "        a = np.arange(1, 5)\n",
    "        # array([1, 2, 3, 4])\n",
    "    2. 指定步长\n",
    "        a = np.arange(-5, 10, 3)\n",
    "        # array([-5, -2, 1, 4, 7])\n",
    "    3. 与range不同，可以使用小数步长\n",
    "        a = np.arange(10, -5, -0.3)\n",
    "        # array([10. , 9.7, 9.4, 9.1, ...])\n",
    "9. numpy.random.rand函数生成 0~1 之间随机小数数组：\n",
    "\n",
    "    1. 生成随机的一维数组\n",
    "        a = np.random.rand(3)\n",
    "    2. 生成随机的二维数组\n",
    "        a = np.random.rand(3, 5)\n",
    "    3. 生成随机的n维数组\n",
    "        a = np.random.rand(3, 5, 5, ...)\n",
    "10. numpy.random.randint函数生成随机整数数组：\n",
    "\n",
    "       生成 -10~10 之间随机整数，共3行5列\n",
    "       a = np.random.randint(-10, 11, (3, 5))\n",
    "11. numpy.random.choice函数生成随机抽取的元素组成的数组：\n",
    "\n",
    "       从列表中随机抽取元素作为数组的元素，共3行4列\n",
    "       a = np.random.choice(['A', 'B', 'C'], (3, 4))\n",
    "12. numpy.random.randn函数生成正态分布的随机数组；unmpy.random.uniform函数生成均匀分布的随机数组\n",
    "\n",
    "13. numpy.loadtxt(文件路径,  分隔符, 类型)函数将文本文件读入数组，读入的数字默认视作浮点数，可以通过dtype参数指定类型：\n",
    "\n",
    "    # 读取txt文件中以逗号分隔的整数\n",
    "    a = np.loadtxt('d/course/data/销量.txt', delimiter=',', dtype='int')\n",
    "需要注意的是如果文件中存在缺失值会导致读取失败。\n",
    "\n",
    "14. numpy.genfromtxt(文件路径, 分隔符, 类型, 填充值)函数将文本文件读入数组，如果文件中存在缺失值则使用填充值进行填充：\n",
    "\n",
    "    # 读取文件，缺失值以0填充\n",
    "    a = np.genfromtxt('d/course/data/销量.txt', delimiter=',', dtype='int', filling_values=0)"
   ],
   "metadata": {
    "collapsed": false,
    "pycharm": {
     "name": "#%% md\n"
    }
   }
  },
  {
   "cell_type": "code",
   "execution_count": 25,
   "outputs": [
    {
     "data": {
      "text/plain": "['1', 3, 5, 7, 9, 11, 13, 17]"
     },
     "execution_count": 25,
     "metadata": {},
     "output_type": "execute_result"
    }
   ],
   "source": [
    "#练习题1 请将以下列表创建为NDArray数组\n",
    "import numpy as np\n",
    "li = ['1', 3, 5, 7, 9, 11, 13, 17]\n",
    "date=np.array(li)\n",
    "li"
   ],
   "metadata": {
    "collapsed": false,
    "pycharm": {
     "name": "#%%\n"
    }
   }
  },
  {
   "cell_type": "code",
   "execution_count": 26,
   "outputs": [
    {
     "data": {
      "text/plain": "[1, 3, 5, 7, 9, 11, 13, 17]"
     },
     "execution_count": 26,
     "metadata": {},
     "output_type": "execute_result"
    }
   ],
   "source": [
    "# 练习题2  请将以下列表创建为NDArray数组，元素是整数类型\n",
    "li = [1, 3, 5, 7, 9, 11, 13, 17]\n",
    "date=np.array(li ,dtype=int)\n",
    "li"
   ],
   "metadata": {
    "collapsed": false,
    "pycharm": {
     "name": "#%%\n"
    }
   }
  },
  {
   "cell_type": "code",
   "execution_count": 27,
   "outputs": [
    {
     "data": {
      "text/plain": "array([[ 85,  65,  44,  99,  60],\n       [100,  27,   9, 100,  59],\n       [ 23,  61,  79,  98,  26],\n       [ 35,  11,   6,   4,  56]])"
     },
     "execution_count": 27,
     "metadata": {},
     "output_type": "execute_result"
    }
   ],
   "source": [
    "#练习题3 请首先生成一个 1~100 随机数的4行4列的二维列表，再生成NDArray数组\n",
    "import random\n",
    "kong=[]\n",
    "for x in range(4):\n",
    "    linshi=[]\n",
    "    for i in range(5):\n",
    "        linshi.append(random.randint(0,101))\n",
    "    kong.append(linshi)\n",
    "kong=np.array(kong)\n",
    "kong"
   ],
   "metadata": {
    "collapsed": false,
    "pycharm": {
     "name": "#%%\n"
    }
   }
  },
  {
   "cell_type": "code",
   "execution_count": 28,
   "outputs": [
    {
     "data": {
      "text/plain": "(array([ 17,  16, -94, -86, -68, -17, -99, -13, -26,  10,  -8, -36, -35,\n        -29, -10,   0, -40,  46,  38, -21,  38, -99, -34, -30, -23,  23,\n        -29, -91, -89,  37, -75,  40,  17,  11, -91, -67, -61,  50, -36,\n        -43, -40,  39, -91, -95, -75, -47, -80, -76,  10, -13,  47, -97,\n        -99, -77, -41,  40, -48, -73, -78,   7, -57,  27,  50,  -9,  -2,\n        -72, -87, -11,  14, -29, -51,  33, -65, -84, -72, -65, -74, -23,\n        -84,  20, -77, -46, -14,  33,  10, -79, -12,  36, -11, -84, -77,\n        -82, -11, -75,  16, -20,  49, -98,  29, -82]),\n array([-50, -48, -46, -44, -42, -40, -38, -36, -34, -32, -30, -28, -26,\n        -24, -22, -20, -18, -16, -14, -12, -10,  -8,  -6,  -4,  -2,   0,\n          2,   4,   6,   8,  10,  12,  14,  16,  18,  20,  22,  24,  26,\n         28,  30,  32,  34,  36,  38,  40,  42,  44,  46,  48,  50,  52,\n         54,  56,  58,  60,  62,  64,  66,  68,  70,  72,  74,  76,  78,\n         80,  82,  84,  86,  88,  90,  92,  94,  96,  98, 100]),\n array([-10. ,  -9.5,  -9. ,  -8.5,  -8. ,  -7.5,  -7. ,  -6.5,  -6. ,\n         -5.5,  -5. ,  -4.5,  -4. ,  -3.5,  -3. ,  -2.5,  -2. ,  -1.5,\n         -1. ,  -0.5,   0. ,   0.5,   1. ,   1.5,   2. ,   2.5,   3. ,\n          3.5,   4. ,   4.5,   5. ,   5.5,   6. ,   6.5,   7. ,   7.5,\n          8. ,   8.5,   9. ,   9.5,  10. ]))"
     },
     "execution_count": 28,
     "metadata": {},
     "output_type": "execute_result"
    }
   ],
   "source": [
    "#练习4\n",
    "#请使用numpy创建一维随机整数数组，范围 -100 ~ 50，共100个元素。\n",
    "#请使用numpy创建一维等差整数数组，范围 -50 ~ 100，步长2。\n",
    "# 请使用numpy创建一维等差数组，范围 -10 ~ 10，步长0.5\n",
    "arr1 = np.random.randint(-100, 51, 100)\n",
    "arr2 = np.arange(-50, 102, 2)\n",
    "arr3 = np.arange(-10, 10.5, 0.5)\n",
    "arr1, arr2, arr3"
   ],
   "metadata": {
    "collapsed": false,
    "pycharm": {
     "name": "#%%\n"
    }
   }
  },
  {
   "cell_type": "code",
   "execution_count": 31,
   "outputs": [],
   "source": [
    "    # 请使用numpy创建随机二维整数数组，共3行4列，范围 -50 ~ 100。\n",
    "    #\n",
    "    # 请使用numpy创建随机二维数组，共4行4列，元素来自于以下数据：\n",
    "    #\n",
    "    #     1, 'a', 2, 3, 'c', 4, 'X'\n",
    "import numpy as np\n",
    "\n",
    "arr1 = np.random.randint(-50, 101, (3, 4))\n",
    "arr2 = np.random.choice([1, 'a', 2, 3, 'c', 4, 'X'], (4, 4))\n",
    "arr1, arr2"
   ],
   "metadata": {
    "collapsed": false,
    "pycharm": {
     "name": "#%%\n"
    }
   }
  },
  {
   "cell_type": "code",
   "execution_count": null,
   "outputs": [],
   "source": [],
   "metadata": {
    "collapsed": false,
    "pycharm": {
     "name": "#%%\n"
    }
   }
  }
 ],
 "metadata": {
  "kernelspec": {
   "display_name": "Python 3",
   "language": "python",
   "name": "python3"
  },
  "language_info": {
   "codemirror_mode": {
    "name": "ipython",
    "version": 2
   },
   "file_extension": ".py",
   "mimetype": "text/x-python",
   "name": "python",
   "nbconvert_exporter": "python",
   "pygments_lexer": "ipython2",
   "version": "2.7.6"
  }
 },
 "nbformat": 4,
 "nbformat_minor": 0
}