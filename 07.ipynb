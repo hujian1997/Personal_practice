{
 "cells": [
  {
   "cell_type": "markdown",
   "source": [],
   "metadata": {
    "collapsed": false,
    "pycharm": {
     "name": "#%% md\n"
    }
   }
  },
  {
   "cell_type": "markdown",
   "source": [
    "1. 关系运算也适用广播。所以numpy数组可以与不同形状的元素进行比较。相当于取出数组内每个元素分别比较，结果为True或False。例如比较数组sh与150：sh > 150 。\n",
    "\n",
    "不同维度的数组可以通过广播进行比较，数组通过广播转换为相同形状的数组，再进行每个元素的比较。\n",
    "\n",
    "2. 通过关系运算，可以按照指定筛选条件，将数组中所有元素转换为True或False，进而实现一些特殊的统计功能。例如统计sh中大于150的元素有多少个：np.sum(sh > 150)\n",
    "\n",
    "3. count_nonzero 函数统计数组中非零元素的个数。例如统计sh中大于150的元素个数：np.count_nonzero(sh > 150) 。\n",
    "\n",
    "4. 通过一个由True或False组成的序列作为遮掩数据，与原数组中的元素位置一一对应，True对应的位置上的元素保留，False对应的位置上的元素被遮掩，这种过滤数据的方法称为掩码（mask）。\n",
    "\n",
    "5. 利用逻辑掩码可以设置条件筛选元素：\n",
    "\n",
    "    1. 列出筛选条件\n",
    "\n",
    "    2. 将筛选条件作为数组方括号内索引\n",
    "\n",
    "例如：筛选数组sh中大于150的元素：sh[sh > 150]\n",
    "\n",
    "6. Numpy逻辑筛选可以使用逻辑运算符，但要使用位运算符号：\n",
    "\n",
    "    与：&\n",
    "    或：|\n",
    "    非：~\n",
    "特别提醒：建议对所有关系式都使用圆括号，以免发生优先级错误。\n",
    "\n",
    "例如过滤 150~170 之间的元素：sh[(sh > 150) & (sh < 170)]\n",
    "\n",
    "7. Python中的内置对象都可以被视作True或者False，因而可以进行逻辑运算。\n",
    "\n",
    "比如空列表或空字符串会被看做False，有内容的列表或字符串则是True。\n",
    "\n",
    "但是Numpy的array类规定如果包含超过一个元素，就不能被视作逻辑值。\n",
    "\n",
    "8. 如果两个Numpy数组之间使用了位运算符号，则会按照普通算数运算和广播机制的规则，将两个数组的对应的元素进行位运算，并将结果存入新数组。\n",
    "\n",
    "9. 位运算符号的优先级高于关系运算符，所以需要将关系式用括号括起，否则会先做位运算，后做比较。"
   ],
   "metadata": {
    "collapsed": false,
    "pycharm": {
     "name": "#%% md\n"
    }
   }
  },
  {
   "cell_type": "code",
   "execution_count": 6,
   "outputs": [],
   "source": [
    "\n",
    "import pprint\n",
    "\n",
    "import numpy as np\n"
   ],
   "metadata": {
    "collapsed": false,
    "pycharm": {
     "name": "#%%\n"
    }
   }
  },
  {
   "cell_type": "code",
   "execution_count": 7,
   "outputs": [
    {
     "name": "stdout",
     "output_type": "stream",
     "text": [
      "array([[ 360307, 1297371,  248828, 2201548,  791195],\n",
      "       [ 368636, 1331268,  248854, 3005210,  754386],\n",
      "       [ 356222, 1449460,  244691, 3334017,  976461],\n",
      "       [ 429900, 1779493,  282674, 3902288, 1078024],\n",
      "       [ 471526, 2231524,  327262, 4552216, 1076877],\n",
      "       [ 498704, 2738273,  351527, 4916122, 1279807],\n",
      "       [ 553071, 3100157,  380216, 5357270, 1287651],\n",
      "       [ 576980, 3273780,  440282, 5824880, 1360515],\n",
      "       [ 614773, 3428075,  469439, 6430203, 1545284],\n",
      "       [ 703770, 3712128,  488497, 7189684, 2152141],\n",
      "       [ 862742, 3778315,  510097, 7390338, 2114842],\n",
      "       [ 548554, 3784740,  598940, 7412516, 2177509]])\n"
     ]
    }
   ],
   "source": [
    "   # 练习题 2007年~2018年 的产业增长值数据，各行为 2007~2018 ，各列为：运输业,零售业,餐饮业,金融业,房地产。\n",
    "   #\n",
    "   #  1. 获取 2009年~2015年 房地产业增长值在79万到120万，或130万到150万的数据\n",
    "   #\n",
    "   #  2. 获取 2007年~2009年 产业增长值不高于50万的数据\n",
    "dt=np.loadtxt('演示数据/python_03_07.txt',delimiter=\",\",dtype=int)\n",
    "pprint.pp(dt)"
   ],
   "metadata": {
    "collapsed": false,
    "pycharm": {
     "name": "#%%\n"
    }
   }
  },
  {
   "cell_type": "code",
   "execution_count": 11,
   "outputs": [
    {
     "name": "stdout",
     "output_type": "stream",
     "text": [
      "[Markup('[&#34;ImmutableMultiDict([(&#39;phrase&#39;, &#39;dd&#39;), (&#39;letters&#39;, &#39;aeiou&#39;)])&#34;, &#39;127.0.0.1&#39;, &#39;Mozilla/5.0 (Windows NT 10.0; Win64; x64) AppleWebKit/537.36 (KHTML, like Gecko) Chrome/102.0.5005.63 Safari/537.36 Edg/102.0.1245.30&#39;, &#39;set()\\\\n&#39;]'),\n",
      " Markup('[&#34;ImmutableMultiDict([(&#39;phrase&#39;, &#39;dd&#39;), (&#39;letters&#39;, &#39;aeiou&#39;)])&#34;, &#39;127.0.0.1&#39;, &#39;Mozilla/5.0 (Windows NT 10.0; Win64; x64) AppleWebKit/537.36 (KHTML, like Gecko) Chrome/102.0.5005.63 Safari/537.36 Edg/102.0.1245.30&#39;, &#39;set()\\\\n&#39;]'),\n",
      " Markup('[&#34;ImmutableMultiDict([(&#39;phrase&#39;, &#39;dd&#39;), (&#39;letters&#39;, &#39;aeiou&#39;)])&#34;, &#39;127.0.0.1&#39;, &#39;Mozilla/5.0 (Windows NT 10.0; Win64; x64) AppleWebKit/537.36 (KHTML, like Gecko) Chrome/102.0.5005.63 Safari/537.36 Edg/102.0.1245.30&#39;, &#39;set()\\\\n&#39;]')]\n"
     ]
    }
   ],
   "source": [
    "import flask\n",
    "import pprint\n",
    "kong=[]\n",
    "with open('search4letters/vsearch.log',) as log:\n",
    "    contents=log.readlines()\n",
    "    for x in contents:\n",
    "        kong.append((flask.escape(x.split('|'))))\n",
    "pprint.pprint(list(kong))"
   ],
   "metadata": {
    "collapsed": false,
    "pycharm": {
     "name": "#%%\n"
    }
   }
  },
  {
   "cell_type": "code",
   "execution_count": 6,
   "outputs": [
    {
     "name": "stdout",
     "output_type": "stream",
     "text": [
      "[Markup('ImmutableMultiDict([(&#39;phrase&#39;, &#39;dd&#39;), (&#39;letters&#39;, &#39;aeiou&#39;)])'),\n",
      " Markup('127.0.0.1'),\n",
      " Markup('Mozilla/5.0 (Windows NT 10.0; Win64; x64) AppleWebKit/537.36 (KHTML, like Gecko) Chrome/102.0.5005.63 Safari/537.36 Edg/102.0.1245.30'),\n",
      " Markup('set()\\n')]\n",
      "[Markup('ImmutableMultiDict([(&#39;phrase&#39;, &#39;dd&#39;), (&#39;letters&#39;, &#39;aeiou&#39;)])'),\n",
      " Markup('127.0.0.1'),\n",
      " Markup('Mozilla/5.0 (Windows NT 10.0; Win64; x64) AppleWebKit/537.36 (KHTML, like Gecko) Chrome/102.0.5005.63 Safari/537.36 Edg/102.0.1245.30'),\n",
      " Markup('set()\\n')]\n",
      "[Markup('ImmutableMultiDict([(&#39;phrase&#39;, &#39;dd&#39;), (&#39;letters&#39;, &#39;aeiou&#39;)])'),\n",
      " Markup('127.0.0.1'),\n",
      " Markup('Mozilla/5.0 (Windows NT 10.0; Win64; x64) AppleWebKit/537.36 (KHTML, like Gecko) Chrome/102.0.5005.63 Safari/537.36 Edg/102.0.1245.30'),\n",
      " Markup('set()\\n')]\n"
     ]
    }
   ],
   "source": [
    "kong=[]\n",
    "with open('search4letters/vsearch.log',) as log:\n",
    "    contents=log.readlines()\n",
    "    for x in contents:\n",
    "        x=flask.escape(x)\n",
    "        kong.append(x.split('|'))\n",
    "for i in kong:\n",
    "   pprint.pprint(i)"
   ],
   "metadata": {
    "collapsed": false,
    "pycharm": {
     "name": "#%%\n"
    }
   }
  }
 ],
 "metadata": {
  "kernelspec": {
   "display_name": "Python 3",
   "language": "python",
   "name": "python3"
  },
  "language_info": {
   "codemirror_mode": {
    "name": "ipython",
    "version": 2
   },
   "file_extension": ".py",
   "mimetype": "text/x-python",
   "name": "python",
   "nbconvert_exporter": "python",
   "pygments_lexer": "ipython2",
   "version": "2.7.6"
  }
 },
 "nbformat": 4,
 "nbformat_minor": 0
}