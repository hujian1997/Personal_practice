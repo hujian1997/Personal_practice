{
 "cells": [
  {
   "cell_type": "markdown",
   "source": [
    "1. 安装jupyter notebook的两种方式：\n",
    "\n",
    "    （1）使用pip命令下载安装：pip install jupyter\n",
    "\n",
    "        或指定国内的镜像加速下载，例如使用清华源：\n",
    "\n",
    "        pip install -i https://pypi.tuna.tsinghua.edu.cn/simple jupyter\n",
    "\n",
    "    （2）使用Anaconda软件包\n",
    "\n",
    "2. 命令行方式启动jupyter，首先打开命令提示符窗口，输入 “jupyter notebook” ，回车之后将自动打开本地浏览器，进入jupyter页面，显示默认的工作目录。\n",
    "\n",
    "3. 点击右侧的“New”按钮，选择“Python3”即可创建一个新的python3脚本并进入代码编辑页面。\n",
    "\n",
    "4. Jupyter与VSCode或Pycharm等编辑器开发环境等不同，它是一个可编程的高级数据计算器，或者说是一个Python交互式窗口的升级版。\n",
    "\n",
    "5. Jupyter中书写代码以“单元格（Cell）”为单位，标记为“In”的单元格可以输入代码，标记为“Out”的单元格存放运行结果。\n",
    "\n",
    "6. 运行单元格代码：1. 选中该单元格；2. 点击运行按钮。\n",
    "\n",
    "7. Jupyter与交互式窗口不同，在交互式窗口中每一条命令马上就会看到该命令的执行结果，而在Jupyter可以把很多条命令写到Cell中，然后以Cell为单位一次运行该Cell中的所有代码。\n",
    "\n",
    "8. Cell单元格的编号：\n",
    "\n",
    "    1. 所有代码以Cell单元格为单位，并且为Cell按顺序分别编号：In[1]、In[2]、In[3] ...\n",
    "\n",
    "    2. 运行Cell之后，结果显示在Out单元格中，显示出的Out也具有编号：Out[1]、Out[2] ...\n",
    "\n",
    "9. 单元格外观控制：\n",
    "\n",
    "    1. 通过工具栏中的 ↑ ↓ 箭头按钮可以调整Cell的前后顺序\n",
    "\n",
    "    2. 双击隐藏Out框\n",
    "\n",
    "    3. 单击回复Out框\n",
    "\n",
    "    4. 通过工具栏中的“剪刀”按钮可以剪切单元格\n",
    "\n",
    "10. 魔法命令：以%或%%开头的特殊命令，控制Jupyter提供各种辅助开发和计算的特殊功能。该类命令不是Python标准语法，只能在Jupyter中运行。\n",
    "\n",
    "11. %%time命令：计算本单元格中代码的运行时间。例如：\n",
    "\n",
    "    %%time\n",
    "    i = 1\n",
    "    for a in range(100000):\n",
    "        for b in range(1000):\n",
    "            i = i + 1\n",
    "    print(i)\n",
    "    # 100000001\n",
    "    # Wall time: 8.98 s\n",
    "12. %%timeit命令：将本单元格代码重复执行多次，然后计算平均运行时间，结果更加可靠。\n",
    "\n",
    "13. %who命令：输出截止目前的所有变量名称\n",
    "\n",
    "14. %与%%的区别：一个百分号只对当前一行的代码起作用；两个百分号对整个单元格中的所有代码起作用。\n",
    "\n",
    "15. Jupyter的笔记功能，Jupyter的单元格不仅可以用来写代码，也可以写笔记文字。选中单元格，在工具栏的下拉列表中选择“Markdown”文档类型，该单元格的In标志消失，表示它不再是一个输入或输出的单元格，而是作为普通的笔记文本。\n",
    "\n",
    "16. 修改笔记文本样式，选中笔记单元格，点击工具栏右侧的“命令配置”按钮，选择“把代码块变成标题”即可修改文本格式。\n",
    "\n",
    "17. Jupyter的代码以单元格为单位执行。一个单元格执行未结束时，其他单元格也没有影响。点击工具栏的“中断内核”按钮即可终止当前单元格中代码的执行。\n",
    "\n",
    "18. 点击编辑页面上方的文件名可以修改当前编辑的文件的名称，在弹出的对话框中输入文件名，点击“重命名”按钮完成修改。\n",
    "\n",
    "19. 关闭文件时，仅仅在浏览器中关闭Jupyter代码页面，程序其实仍然驻留在后台中。若想真正关闭文件，应当在主页Running选项卡中点击相应的文件的关闭按钮。在启动Jupyter的命令提示符窗口中，按下键盘的 Ctrl + c 可以强制中断Jupyter服务的运行，于是所有的Jupyter运行的程序都会被关闭。\n",
    "\n",
    "20. Jupyter的默认工作目录：Windows下为系统盘的User\\本人用户名\\文件夹；Mac下为/Users/本人用户名目录\n",
    "\n",
    "21. 修改Jupyter的默认工作目录：\n",
    "\n",
    "    1. 启动命令提示符窗口，输入 “jupyter notebook --generate-config” 命令按回车，该命令将生成一个Jupyter的配置文件，根据执行结果中显示的路径找到配置文件的位置，默认位置在：系统盘\\Users\\用户名\\.jupyter\\jupyter_notebook_config.py 。\n",
    "\n",
    "    2. 使用编辑器打开配置文件，查找 “notebook_dir” 字符串，该选项默认为注释，取消注释，将等号后面的空字符串修改为需要修改的文件夹路径，例如：c.NotebookApp.notebook_dir = 'd:/course/jupyter'。\n",
    "\n",
    "    3. 保存修改后的jupyter_notebook_config.py文件，重新启动Jupyter配置将生效，自动进入自定义的文件夹。\n",
    "\n",
    "22. 将Jupyter的代码文件导入到工作目录，在文件夹中复制Jupyter的代码文件（扩展名：ipynb）到新的工作目录中，在Jupyter主页（Home Page）刷新后出现新导入的文件。\n",
    "\n",
    "23. Jupyter保存的文件并不是Python源代码文件类型py，而是一种容纳代码、交互过程、文字格式、输入输出效果等所有元素的特殊类型：ipynb 。这种类型只能在Jupyter中运行，不能像普通Python程序一样运行读写。\n",
    "\n",
    "24. 将 ipynb 文件导出为 py 文件，点击菜单栏 “File” -> “Download as”，选择 “Python (.py)” 即可下载 py 类型的源代码文件。\n",
    "\n",
    "25. 导入Jupyter中编写的自定义模块，需要先将文件导出为普通的py文件，然后复制到工作目录中即可使用 import 语句正常导入。"
   ],
   "metadata": {
    "collapsed": false,
    "pycharm": {
     "name": "#%% md\n"
    }
   }
  },
  {
   "cell_type": "markdown",
   "source": [
    "Jupyter魔法命令\n",
    "回到课程首页\n",
    "杨洋\n",
    "发布时间：2021.08.10\n",
    "\n",
    "Jupyter的魔法命令包含两大类，前缀为“%”的是行指令（line magic），前缀为“%%”的是单元格指令（cell magic），在Jupyter单元格中执行命令“%lsmagic”可以显示所有支持的魔法命令，在魔法命令后加问号“?”显示关于命令的帮助文档。\n",
    "\n",
    "Jupyter常用的魔法命令：\n",
    "\n",
    "%lsmagic        列出所有魔法命令\n",
    "%magic           魔法命令帮助\n",
    "%cd                   进入目录\n",
    "%pwd              当前目录\n",
    "%load              导入python文件\n",
    "%run                执行python文件\n",
    "%conda          使用conda命令\n",
    "%pip                使用pip命令\n",
    "%timeit          单行代码的执行时间\n",
    "%who              列出全局变量简略信息\n",
    "%whos            列出全局变量详细信息\n",
    "%who_ls        列表的形式列出全局变量\n",
    "%reset             清空所有用户变量\n",
    "%pycat            显示外部文件\n",
    "%%timeit          代码块的执行时间\n",
    "%%writefile     将代码块写入文件\n",
    "%%latex            编写Latex公式\n",
    "%%cmd             执行cmd命令   "
   ],
   "metadata": {
    "collapsed": false,
    "pycharm": {
     "name": "#%% md\n"
    }
   }
  },
  {
   "cell_type": "code",
   "execution_count": null,
   "metadata": {
    "pycharm": {
     "name": "#%%\n"
    }
   },
   "outputs": [],
   "source": []
  }
 ],
 "metadata": {
  "kernelspec": {
   "display_name": "Python 3 (ipykernel)",
   "language": "python",
   "name": "python3"
  },
  "language_info": {
   "codemirror_mode": {
    "name": "ipython",
    "version": 3
   },
   "file_extension": ".py",
   "mimetype": "text/x-python",
   "name": "python",
   "nbconvert_exporter": "python",
   "pygments_lexer": "ipython3",
   "version": "3.10.4"
  }
 },
 "nbformat": 4,
 "nbformat_minor": 1
}