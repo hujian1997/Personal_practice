{
 "cells": [
  {
   "cell_type": "markdown",
   "source": [
    "1. 整体运算方法一：加减乘除，一视同仁。在numpy中无论是几维数组，都可以直接与数字进行加减乘除运算，规则是将数组中的每一个元素与该数字进行运算。例如：\n",
    "\n",
    "    a = np.random.randint(1, 10, 5)\n",
    "    b = a + 5\n",
    "2. 整体运算方法二：通用函数，雨露均沾。numpy函数不改变原数组，只是用计算结果生成新数组。\n",
    "\n",
    "numpy函数对数组中的每一个元素都进行处理，例如求二维数组中所有元素的绝对值：\n",
    "\n",
    "    a = np.random.randint(-100, 100, (3, 5))\n",
    "    y = np.abs(x)\n",
    "3. numpy中常用的数学函数：\n",
    "\n",
    "    round   四舍五入，可以指定精度\n",
    "    abs     求绝对值\n",
    "    sqrt    求平方根\n",
    "    exp     求指数\n",
    "    log     求自然对数\n",
    "    log2    计算以2为底的对数\n",
    "    log10   计算10为底的对数\n",
    "    ceil    大于等于该值的最小整数\n",
    "    floor   小于等于该值的最大整数\n",
    "    sin、cos、tan           正弦、余弦、正切\n",
    "    arccos、arcsin、arctan  反三角函数\n",
    "4. np.round(x, 位数)函数对小数进行四舍五入操作。“位数”是可选参数，默认只保留四射五入后的整数部分。例如：\n",
    "\n",
    "    x = np.random.rand(3, 5)\n",
    "    # 四舍五入保留两位小数\n",
    "    np.round(x, 2)\n",
    "    # 四舍五入保留整数\n",
    "    np.round(x)\n",
    "5. 整体运算方法三：同形数组，对位计算。同形数组是指相同形状的数组，数组维度一样，行数列数相同。规则是按照两个数组中相同位置上的元素对应计算（对位计算）。例如将两个二维数组相除，保留2位小数：\n",
    "\n",
    "    a = np.random.randint(100, 200, (3, 5))\n",
    "    b = np.random.randint(100, 200, (3, 5))\n",
    "    np.round( a / b , 2)\n",
    "6. 点积运算要求第一个数组的列数与第二个数组的行数相等，其结果数组的行数等于第一个数组的行数，列数等于第二个数组的列数。例如有“数组1”行列数为(2, 3)，“数组2”行列数为(3, 2)，它们点积后的“数组3”的行列数为(2, 2)。\n",
    "\n",
    "7. 点积运算的计算规则：行看左边，列看右边。例如：\n",
    "\n",
    "    求结果数组3中(1, 1)位置的值，使用左边数组的第1行的元素分别乘以右边数组第1列的元素，再对得到的每一个元素求和；\n",
    "    求结果数组3中(1, 2)位置的值，使用左边数组的第1行的元素分别乘以右边数组第2列的元素，再对得到的每一个元素求和；\n",
    "    求结果数组3中(2, 1)位置的值，使用左边数组的第2行的元素分别乘以右边数组第1列的元素，再对得到的每一个元素求和；\n",
    "    求结果数组3中(2, 2)位置的值，使用左边数组的第2行的元素分别乘以右边数组第2列的元素，再对得到的每一个元素求和；\n",
    "    。。。\n",
    "\n",
    "8. 整体运算方法四：矩阵点积，行列归一。对满足矩阵点积运算要求的两个数组a与b进行运算，通过数组类的方法 a.dot(b) 可以直接计算点积结果。例如：\n",
    "\n",
    "    sh = np.loadtxt('d:/demo/销量.txt', delimiter=',', dtype='int')\n",
    "    bonus = np.array([\n",
    "        [300, 150, 200, 200],\n",
    "        [300, 150, 250, 300],\n",
    "        [200,  80, 100, 100]\n",
    "    ])\n",
    "    bonus.dot(sh)"
   ],
   "metadata": {
    "collapsed": false,
    "pycharm": {
     "name": "#%% md\n"
    }
   }
  },
  {
   "cell_type": "code",
   "execution_count": 22,
   "outputs": [
    {
     "data": {
      "text/plain": "array([19,  6,  1, 11, 10, 16, 11,  7,  5, 13])"
     },
     "execution_count": 22,
     "metadata": {},
     "output_type": "execute_result"
    }
   ],
   "source": [
    "#练习题1 请先利用函数与计算创建一个一维随机偶数数组，再将该数组通过计算变为奇数数组。\n",
    "import numpy as np\n",
    "dt=np.array(list(range(0,101,2)))\n",
    "a = np.random.randint(1, 20, 10)\n",
    "a"
   ],
   "metadata": {
    "collapsed": false,
    "pycharm": {
     "name": "#%%\n"
    }
   }
  },
  {
   "cell_type": "code",
   "execution_count": 25,
   "outputs": [
    {
     "data": {
      "text/plain": "array([34.64, 62.45, 60.  , 69.28, 41.23, 56.57, 67.08, 67.82, 76.16,\n       26.46, 30.  , 48.99, 71.41, 22.36, 51.96, 72.11,  0.  , 76.16,\n       68.56, 62.45, 69.28, 70.  , 41.23, 24.49, 47.96, 45.83, 57.45,\n       66.33, 58.31, 75.5 , 71.41, 52.92, 59.16, 50.  , 73.48, 71.41,\n       43.59, 64.81, 53.85, 53.85, 43.59, 30.  , 53.85, 26.46, 55.68,\n       75.5 , 67.08, 45.83, 45.83, 66.33, 50.99, 47.96, 41.23, 34.64,\n       42.43, 48.99, 63.25, 43.59, 69.28, 17.32, 70.71, 50.99, 59.16,\n       22.36, 22.36, 14.14, 50.  , 72.8 , 76.16, 47.96, 44.72, 69.28,\n       60.83, 68.56, 62.45, 41.23, 73.48, 30.  , 63.25, 41.23, 60.  ,\n       55.68, 52.92, 63.25, 76.16, 74.16, 42.43, 73.48, 20.  , 10.  ,\n       75.5 , 31.62, 55.68, 14.14, 70.71, 28.28, 67.82, 54.77, 67.08,\n       64.81])"
     },
     "execution_count": 25,
     "metadata": {},
     "output_type": "execute_result"
    }
   ],
   "source": [
    "# 练习题2    请创建一个包含100个学生的不及格分数的数组，使用开方乘10法对所有成绩进行提分，保留2位小数。\n",
    "dt=np.random.randint(0,60,100)\n",
    "dt=np.round((np.sqrt(dt))*10,2)\n",
    "dt\n",
    "\n",
    "\n"
   ],
   "metadata": {
    "collapsed": false,
    "pycharm": {
     "name": "#%%\n"
    }
   }
  },
  {
   "cell_type": "code",
   "execution_count": 28,
   "outputs": [
    {
     "data": {
      "text/plain": "array([1.33, 1.15, 1.08])"
     },
     "execution_count": 28,
     "metadata": {},
     "output_type": "execute_result"
    }
   ],
   "source": [
    " # 练习题3某地区三产生产总值： 2013年：1026、1098982、13842328；2014年：1366、1264700、14987235\n",
    "d1=np.array([1026,1098982,13842328])\n",
    "d2=np.array([1366,1264700,14987235])\n",
    "np.round(d2/d1,2)"
   ],
   "metadata": {
    "collapsed": false,
    "pycharm": {
     "name": "#%%\n"
    }
   }
  }
 ],
 "metadata": {
  "kernelspec": {
   "display_name": "Python 3",
   "language": "python",
   "name": "python3"
  },
  "language_info": {
   "codemirror_mode": {
    "name": "ipython",
    "version": 2
   },
   "file_extension": ".py",
   "mimetype": "text/x-python",
   "name": "python",
   "nbconvert_exporter": "python",
   "pygments_lexer": "ipython2",
   "version": "2.7.6"
  }
 },
 "nbformat": 4,
 "nbformat_minor": 0
}