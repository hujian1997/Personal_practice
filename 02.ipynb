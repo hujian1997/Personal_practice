{
 "cells": [
  {
   "cell_type": "code",
   "execution_count": 16,
   "outputs": [
    {
     "data": {
      "text/plain": "      中文名称 classfication type1 type2                           特性  \\\n0     妙蛙种子         种子宝可梦    草系    毒系               ['茂盛', '叶绿素'],   \n1      妙蛙草         种子宝可梦    草系    毒系               ['茂盛', '叶绿素'],   \n2      妙蛙花         种子宝可梦    草系    毒系               ['茂盛', '叶绿素'],   \n3      小火龙         蜥蜴宝可梦    火系   NaN              ['猛火', '太阳之力'],   \n4      火恐龙         火焰宝可梦    火系   NaN              ['猛火', '太阳之力'],   \n..     ...           ...   ...   ...                          ...   \n698  磨牙彩皮鱼         磨牙宝可梦    水系  超能力系   ['鲜艳之躯', '强壮之颚', '奇幻皮肤 '],   \n699    老翁龙         悠游宝可梦   一般系    龙系      ['怒火冲天', '食草', '无关天气'],   \n700    心鳞宝         鳞片宝可梦    龙系   NaN          ['防弹', '隔音', '防尘'],   \n701    鳞甲龙         鳞片宝可梦    龙系   格斗系          ['防弹', '隔音', '防尘'],   \n702  杖尾鳞甲龙         鳞片宝可梦    龙系   格斗系          ['防弹', '隔音', '防尘'],   \n\n     against_bug  against_dark  against_dragon  against_electric  \\\n0            1.0           1.0             1.0               0.5   \n1            1.0           1.0             1.0               0.5   \n2            1.0           1.0             1.0               0.5   \n3            0.5           1.0             1.0               1.0   \n4            0.5           1.0             1.0               1.0   \n..           ...           ...             ...               ...   \n698          2.0           2.0             1.0               2.0   \n699          1.0           1.0             2.0               0.5   \n700          1.0           1.0             2.0               0.5   \n701          0.5           0.5             2.0               0.5   \n702          0.5           0.5             2.0               0.5   \n\n     against_fairy  ...  hp        name  percentage_male  pokedex_number  \\\n0              0.5  ...  45   Bulbasaur             88.1               1   \n1              0.5  ...  60     Ivysaur             88.1               2   \n2              0.5  ...  80    Venusaur             88.1               3   \n3              0.5  ...  39  Charmander             88.1               4   \n4              0.5  ...  58  Charmeleon             88.1               5   \n..             ...  ...  ..         ...              ...             ...   \n698            1.0  ...  68     Bruxish             50.0             779   \n699            2.0  ...  78      Drampa             50.0             780   \n700            2.0  ...  45    Jangmo-o             50.0             782   \n701            4.0  ...  55    Hakamo-o             50.0             783   \n702            4.0  ...  75     Kommo-o             50.0             784   \n\n     sp_attack  sp_defense  speed  weight_kg  generation  is_legendary  \n0           65          65     45        6.9           1             0  \n1           80          80     60       13.0           1             0  \n2          122         120     80      100.0           1             0  \n3           60          50     65        8.5           1             0  \n4           80          65     80       19.0           1             0  \n..         ...         ...    ...        ...         ...           ...  \n698         70          70     92       19.0           7             0  \n699        135          91     36      185.0           7             0  \n700         45          45     45       29.7           7             0  \n701         65          70     65       47.0           7             0  \n702        100         105     85       78.2           7             0  \n\n[703 rows x 41 columns]",
      "text/html": "<div>\n<style scoped>\n    .dataframe tbody tr th:only-of-type {\n        vertical-align: middle;\n    }\n\n    .dataframe tbody tr th {\n        vertical-align: top;\n    }\n\n    .dataframe thead th {\n        text-align: right;\n    }\n</style>\n<table border=\"1\" class=\"dataframe\">\n  <thead>\n    <tr style=\"text-align: right;\">\n      <th></th>\n      <th>中文名称</th>\n      <th>classfication</th>\n      <th>type1</th>\n      <th>type2</th>\n      <th>特性</th>\n      <th>against_bug</th>\n      <th>against_dark</th>\n      <th>against_dragon</th>\n      <th>against_electric</th>\n      <th>against_fairy</th>\n      <th>...</th>\n      <th>hp</th>\n      <th>name</th>\n      <th>percentage_male</th>\n      <th>pokedex_number</th>\n      <th>sp_attack</th>\n      <th>sp_defense</th>\n      <th>speed</th>\n      <th>weight_kg</th>\n      <th>generation</th>\n      <th>is_legendary</th>\n    </tr>\n  </thead>\n  <tbody>\n    <tr>\n      <th>0</th>\n      <td>妙蛙种子</td>\n      <td>种子宝可梦</td>\n      <td>草系</td>\n      <td>毒系</td>\n      <td>['茂盛', '叶绿素'],</td>\n      <td>1.0</td>\n      <td>1.0</td>\n      <td>1.0</td>\n      <td>0.5</td>\n      <td>0.5</td>\n      <td>...</td>\n      <td>45</td>\n      <td>Bulbasaur</td>\n      <td>88.1</td>\n      <td>1</td>\n      <td>65</td>\n      <td>65</td>\n      <td>45</td>\n      <td>6.9</td>\n      <td>1</td>\n      <td>0</td>\n    </tr>\n    <tr>\n      <th>1</th>\n      <td>妙蛙草</td>\n      <td>种子宝可梦</td>\n      <td>草系</td>\n      <td>毒系</td>\n      <td>['茂盛', '叶绿素'],</td>\n      <td>1.0</td>\n      <td>1.0</td>\n      <td>1.0</td>\n      <td>0.5</td>\n      <td>0.5</td>\n      <td>...</td>\n      <td>60</td>\n      <td>Ivysaur</td>\n      <td>88.1</td>\n      <td>2</td>\n      <td>80</td>\n      <td>80</td>\n      <td>60</td>\n      <td>13.0</td>\n      <td>1</td>\n      <td>0</td>\n    </tr>\n    <tr>\n      <th>2</th>\n      <td>妙蛙花</td>\n      <td>种子宝可梦</td>\n      <td>草系</td>\n      <td>毒系</td>\n      <td>['茂盛', '叶绿素'],</td>\n      <td>1.0</td>\n      <td>1.0</td>\n      <td>1.0</td>\n      <td>0.5</td>\n      <td>0.5</td>\n      <td>...</td>\n      <td>80</td>\n      <td>Venusaur</td>\n      <td>88.1</td>\n      <td>3</td>\n      <td>122</td>\n      <td>120</td>\n      <td>80</td>\n      <td>100.0</td>\n      <td>1</td>\n      <td>0</td>\n    </tr>\n    <tr>\n      <th>3</th>\n      <td>小火龙</td>\n      <td>蜥蜴宝可梦</td>\n      <td>火系</td>\n      <td>NaN</td>\n      <td>['猛火', '太阳之力'],</td>\n      <td>0.5</td>\n      <td>1.0</td>\n      <td>1.0</td>\n      <td>1.0</td>\n      <td>0.5</td>\n      <td>...</td>\n      <td>39</td>\n      <td>Charmander</td>\n      <td>88.1</td>\n      <td>4</td>\n      <td>60</td>\n      <td>50</td>\n      <td>65</td>\n      <td>8.5</td>\n      <td>1</td>\n      <td>0</td>\n    </tr>\n    <tr>\n      <th>4</th>\n      <td>火恐龙</td>\n      <td>火焰宝可梦</td>\n      <td>火系</td>\n      <td>NaN</td>\n      <td>['猛火', '太阳之力'],</td>\n      <td>0.5</td>\n      <td>1.0</td>\n      <td>1.0</td>\n      <td>1.0</td>\n      <td>0.5</td>\n      <td>...</td>\n      <td>58</td>\n      <td>Charmeleon</td>\n      <td>88.1</td>\n      <td>5</td>\n      <td>80</td>\n      <td>65</td>\n      <td>80</td>\n      <td>19.0</td>\n      <td>1</td>\n      <td>0</td>\n    </tr>\n    <tr>\n      <th>...</th>\n      <td>...</td>\n      <td>...</td>\n      <td>...</td>\n      <td>...</td>\n      <td>...</td>\n      <td>...</td>\n      <td>...</td>\n      <td>...</td>\n      <td>...</td>\n      <td>...</td>\n      <td>...</td>\n      <td>...</td>\n      <td>...</td>\n      <td>...</td>\n      <td>...</td>\n      <td>...</td>\n      <td>...</td>\n      <td>...</td>\n      <td>...</td>\n      <td>...</td>\n      <td>...</td>\n    </tr>\n    <tr>\n      <th>698</th>\n      <td>磨牙彩皮鱼</td>\n      <td>磨牙宝可梦</td>\n      <td>水系</td>\n      <td>超能力系</td>\n      <td>['鲜艳之躯', '强壮之颚', '奇幻皮肤 '],</td>\n      <td>2.0</td>\n      <td>2.0</td>\n      <td>1.0</td>\n      <td>2.0</td>\n      <td>1.0</td>\n      <td>...</td>\n      <td>68</td>\n      <td>Bruxish</td>\n      <td>50.0</td>\n      <td>779</td>\n      <td>70</td>\n      <td>70</td>\n      <td>92</td>\n      <td>19.0</td>\n      <td>7</td>\n      <td>0</td>\n    </tr>\n    <tr>\n      <th>699</th>\n      <td>老翁龙</td>\n      <td>悠游宝可梦</td>\n      <td>一般系</td>\n      <td>龙系</td>\n      <td>['怒火冲天', '食草', '无关天气'],</td>\n      <td>1.0</td>\n      <td>1.0</td>\n      <td>2.0</td>\n      <td>0.5</td>\n      <td>2.0</td>\n      <td>...</td>\n      <td>78</td>\n      <td>Drampa</td>\n      <td>50.0</td>\n      <td>780</td>\n      <td>135</td>\n      <td>91</td>\n      <td>36</td>\n      <td>185.0</td>\n      <td>7</td>\n      <td>0</td>\n    </tr>\n    <tr>\n      <th>700</th>\n      <td>心鳞宝</td>\n      <td>鳞片宝可梦</td>\n      <td>龙系</td>\n      <td>NaN</td>\n      <td>['防弹', '隔音', '防尘'],</td>\n      <td>1.0</td>\n      <td>1.0</td>\n      <td>2.0</td>\n      <td>0.5</td>\n      <td>2.0</td>\n      <td>...</td>\n      <td>45</td>\n      <td>Jangmo-o</td>\n      <td>50.0</td>\n      <td>782</td>\n      <td>45</td>\n      <td>45</td>\n      <td>45</td>\n      <td>29.7</td>\n      <td>7</td>\n      <td>0</td>\n    </tr>\n    <tr>\n      <th>701</th>\n      <td>鳞甲龙</td>\n      <td>鳞片宝可梦</td>\n      <td>龙系</td>\n      <td>格斗系</td>\n      <td>['防弹', '隔音', '防尘'],</td>\n      <td>0.5</td>\n      <td>0.5</td>\n      <td>2.0</td>\n      <td>0.5</td>\n      <td>4.0</td>\n      <td>...</td>\n      <td>55</td>\n      <td>Hakamo-o</td>\n      <td>50.0</td>\n      <td>783</td>\n      <td>65</td>\n      <td>70</td>\n      <td>65</td>\n      <td>47.0</td>\n      <td>7</td>\n      <td>0</td>\n    </tr>\n    <tr>\n      <th>702</th>\n      <td>杖尾鳞甲龙</td>\n      <td>鳞片宝可梦</td>\n      <td>龙系</td>\n      <td>格斗系</td>\n      <td>['防弹', '隔音', '防尘'],</td>\n      <td>0.5</td>\n      <td>0.5</td>\n      <td>2.0</td>\n      <td>0.5</td>\n      <td>4.0</td>\n      <td>...</td>\n      <td>75</td>\n      <td>Kommo-o</td>\n      <td>50.0</td>\n      <td>784</td>\n      <td>100</td>\n      <td>105</td>\n      <td>85</td>\n      <td>78.2</td>\n      <td>7</td>\n      <td>0</td>\n    </tr>\n  </tbody>\n</table>\n<p>703 rows × 41 columns</p>\n</div>"
     },
     "execution_count": 16,
     "metadata": {},
     "output_type": "execute_result"
    }
   ],
   "source": [
    "import pandas as pd\n",
    "import numpy\n",
    "src_date=pd.read_excel(r'演示数据\\pokemon.xlsx','pokemon_chn')\n",
    "src_date"
   ],
   "metadata": {
    "collapsed": false,
    "pycharm": {
     "name": "#%%\n"
    }
   }
  },
  {
   "cell_type": "code",
   "execution_count": 4,
   "outputs": [
    {
     "name": "stdout",
     "output_type": "stream",
     "text": [
      "<class 'pandas.core.frame.DataFrame'>\n",
      "RangeIndex: 703 entries, 0 to 702\n",
      "Data columns (total 41 columns):\n",
      " #   Column             Non-Null Count  Dtype  \n",
      "---  ------             --------------  -----  \n",
      " 0   中文名称               703 non-null    object \n",
      " 1   classfication      688 non-null    object \n",
      " 2   type1              703 non-null    object \n",
      " 3   type2              357 non-null    object \n",
      " 4   特性                 703 non-null    object \n",
      " 5   against_bug        703 non-null    float64\n",
      " 6   against_dark       703 non-null    float64\n",
      " 7   against_dragon     703 non-null    float64\n",
      " 8   against_electric   703 non-null    float64\n",
      " 9   against_fairy      703 non-null    float64\n",
      " 10  against_fight      703 non-null    float64\n",
      " 11  against_fire       703 non-null    float64\n",
      " 12  against_flying     703 non-null    float64\n",
      " 13  against_ghost      703 non-null    float64\n",
      " 14  against_grass      703 non-null    float64\n",
      " 15  against_ground     703 non-null    float64\n",
      " 16  against_ice        703 non-null    float64\n",
      " 17  against_normal     703 non-null    float64\n",
      " 18  against_poison     703 non-null    float64\n",
      " 19  against_psychic    703 non-null    float64\n",
      " 20  against_rock       703 non-null    float64\n",
      " 21  against_steel      703 non-null    float64\n",
      " 22  against_water      703 non-null    float64\n",
      " 23  attack             703 non-null    int64  \n",
      " 24  base_egg_steps     703 non-null    int64  \n",
      " 25  base_happiness     703 non-null    int64  \n",
      " 26  base_total         703 non-null    int64  \n",
      " 27  capture_rate       703 non-null    int64  \n",
      " 28  defense            703 non-null    int64  \n",
      " 29  experience_growth  703 non-null    int64  \n",
      " 30  height_m           684 non-null    float64\n",
      " 31  hp                 703 non-null    int64  \n",
      " 32  name               703 non-null    object \n",
      " 33  percentage_male    703 non-null    float64\n",
      " 34  pokedex_number     703 non-null    int64  \n",
      " 35  sp_attack          703 non-null    int64  \n",
      " 36  sp_defense         703 non-null    int64  \n",
      " 37  speed              703 non-null    int64  \n",
      " 38  weight_kg          684 non-null    float64\n",
      " 39  generation         703 non-null    int64  \n",
      " 40  is_legendary       703 non-null    int64  \n",
      "dtypes: float64(21), int64(14), object(6)\n",
      "memory usage: 225.3+ KB\n"
     ]
    }
   ],
   "source": [
    "src_date.info()"
   ],
   "metadata": {
    "collapsed": false,
    "pycharm": {
     "name": "#%%\n"
    }
   }
  },
  {
   "cell_type": "code",
   "execution_count": 11,
   "outputs": [
    {
     "data": {
      "text/plain": "      中文名称  attack  defense  generation\n0     妙蛙种子      49       49           1\n1      妙蛙草      62       63           1\n2      妙蛙花     100      123           1\n3      小火龙      52       43           1\n4      火恐龙      64       58           1\n..     ...     ...      ...         ...\n698  磨牙彩皮鱼     105       70           7\n699    老翁龙      60       85           7\n700    心鳞宝      55       65           7\n701    鳞甲龙      75       90           7\n702  杖尾鳞甲龙     110      125           7\n\n[703 rows x 4 columns]",
      "text/html": "<div>\n<style scoped>\n    .dataframe tbody tr th:only-of-type {\n        vertical-align: middle;\n    }\n\n    .dataframe tbody tr th {\n        vertical-align: top;\n    }\n\n    .dataframe thead th {\n        text-align: right;\n    }\n</style>\n<table border=\"1\" class=\"dataframe\">\n  <thead>\n    <tr style=\"text-align: right;\">\n      <th></th>\n      <th>中文名称</th>\n      <th>attack</th>\n      <th>defense</th>\n      <th>generation</th>\n    </tr>\n  </thead>\n  <tbody>\n    <tr>\n      <th>0</th>\n      <td>妙蛙种子</td>\n      <td>49</td>\n      <td>49</td>\n      <td>1</td>\n    </tr>\n    <tr>\n      <th>1</th>\n      <td>妙蛙草</td>\n      <td>62</td>\n      <td>63</td>\n      <td>1</td>\n    </tr>\n    <tr>\n      <th>2</th>\n      <td>妙蛙花</td>\n      <td>100</td>\n      <td>123</td>\n      <td>1</td>\n    </tr>\n    <tr>\n      <th>3</th>\n      <td>小火龙</td>\n      <td>52</td>\n      <td>43</td>\n      <td>1</td>\n    </tr>\n    <tr>\n      <th>4</th>\n      <td>火恐龙</td>\n      <td>64</td>\n      <td>58</td>\n      <td>1</td>\n    </tr>\n    <tr>\n      <th>...</th>\n      <td>...</td>\n      <td>...</td>\n      <td>...</td>\n      <td>...</td>\n    </tr>\n    <tr>\n      <th>698</th>\n      <td>磨牙彩皮鱼</td>\n      <td>105</td>\n      <td>70</td>\n      <td>7</td>\n    </tr>\n    <tr>\n      <th>699</th>\n      <td>老翁龙</td>\n      <td>60</td>\n      <td>85</td>\n      <td>7</td>\n    </tr>\n    <tr>\n      <th>700</th>\n      <td>心鳞宝</td>\n      <td>55</td>\n      <td>65</td>\n      <td>7</td>\n    </tr>\n    <tr>\n      <th>701</th>\n      <td>鳞甲龙</td>\n      <td>75</td>\n      <td>90</td>\n      <td>7</td>\n    </tr>\n    <tr>\n      <th>702</th>\n      <td>杖尾鳞甲龙</td>\n      <td>110</td>\n      <td>125</td>\n      <td>7</td>\n    </tr>\n  </tbody>\n</table>\n<p>703 rows × 4 columns</p>\n</div>"
     },
     "execution_count": 11,
     "metadata": {},
     "output_type": "execute_result"
    }
   ],
   "source": [
    "new_date=src_date[['中文名称','attack','defense','generation']]\n",
    "new_date"
   ],
   "metadata": {
    "collapsed": false,
    "pycharm": {
     "name": "#%%\n"
    }
   }
  },
  {
   "cell_type": "code",
   "execution_count": 12,
   "outputs": [
    {
     "name": "stderr",
     "output_type": "stream",
     "text": [
      "C:\\Users\\17315\\AppData\\Local\\Temp\\ipykernel_4092\\289735269.py:1: SettingWithCopyWarning: \n",
      "A value is trying to be set on a copy of a slice from a DataFrame.\n",
      "Try using .loc[row_indexer,col_indexer] = value instead\n",
      "\n",
      "See the caveats in the documentation: https://pandas.pydata.org/pandas-docs/stable/user_guide/indexing.html#returning-a-view-versus-a-copy\n",
      "  new_date['战斗力']=(new_date['attack']+new_date['defense'])/2\n"
     ]
    }
   ],
   "source": [
    "new_date['战斗力']=(new_date['attack']+new_date['defense'])/2"
   ],
   "metadata": {
    "collapsed": false,
    "pycharm": {
     "name": "#%%\n"
    }
   }
  },
  {
   "cell_type": "code",
   "execution_count": 13,
   "outputs": [
    {
     "data": {
      "text/plain": "      中文名称  attack  defense  generation    战斗力\n0     妙蛙种子      49       49           1   49.0\n1      妙蛙草      62       63           1   62.5\n2      妙蛙花     100      123           1  111.5\n3      小火龙      52       43           1   47.5\n4      火恐龙      64       58           1   61.0\n..     ...     ...      ...         ...    ...\n698  磨牙彩皮鱼     105       70           7   87.5\n699    老翁龙      60       85           7   72.5\n700    心鳞宝      55       65           7   60.0\n701    鳞甲龙      75       90           7   82.5\n702  杖尾鳞甲龙     110      125           7  117.5\n\n[703 rows x 5 columns]",
      "text/html": "<div>\n<style scoped>\n    .dataframe tbody tr th:only-of-type {\n        vertical-align: middle;\n    }\n\n    .dataframe tbody tr th {\n        vertical-align: top;\n    }\n\n    .dataframe thead th {\n        text-align: right;\n    }\n</style>\n<table border=\"1\" class=\"dataframe\">\n  <thead>\n    <tr style=\"text-align: right;\">\n      <th></th>\n      <th>中文名称</th>\n      <th>attack</th>\n      <th>defense</th>\n      <th>generation</th>\n      <th>战斗力</th>\n    </tr>\n  </thead>\n  <tbody>\n    <tr>\n      <th>0</th>\n      <td>妙蛙种子</td>\n      <td>49</td>\n      <td>49</td>\n      <td>1</td>\n      <td>49.0</td>\n    </tr>\n    <tr>\n      <th>1</th>\n      <td>妙蛙草</td>\n      <td>62</td>\n      <td>63</td>\n      <td>1</td>\n      <td>62.5</td>\n    </tr>\n    <tr>\n      <th>2</th>\n      <td>妙蛙花</td>\n      <td>100</td>\n      <td>123</td>\n      <td>1</td>\n      <td>111.5</td>\n    </tr>\n    <tr>\n      <th>3</th>\n      <td>小火龙</td>\n      <td>52</td>\n      <td>43</td>\n      <td>1</td>\n      <td>47.5</td>\n    </tr>\n    <tr>\n      <th>4</th>\n      <td>火恐龙</td>\n      <td>64</td>\n      <td>58</td>\n      <td>1</td>\n      <td>61.0</td>\n    </tr>\n    <tr>\n      <th>...</th>\n      <td>...</td>\n      <td>...</td>\n      <td>...</td>\n      <td>...</td>\n      <td>...</td>\n    </tr>\n    <tr>\n      <th>698</th>\n      <td>磨牙彩皮鱼</td>\n      <td>105</td>\n      <td>70</td>\n      <td>7</td>\n      <td>87.5</td>\n    </tr>\n    <tr>\n      <th>699</th>\n      <td>老翁龙</td>\n      <td>60</td>\n      <td>85</td>\n      <td>7</td>\n      <td>72.5</td>\n    </tr>\n    <tr>\n      <th>700</th>\n      <td>心鳞宝</td>\n      <td>55</td>\n      <td>65</td>\n      <td>7</td>\n      <td>60.0</td>\n    </tr>\n    <tr>\n      <th>701</th>\n      <td>鳞甲龙</td>\n      <td>75</td>\n      <td>90</td>\n      <td>7</td>\n      <td>82.5</td>\n    </tr>\n    <tr>\n      <th>702</th>\n      <td>杖尾鳞甲龙</td>\n      <td>110</td>\n      <td>125</td>\n      <td>7</td>\n      <td>117.5</td>\n    </tr>\n  </tbody>\n</table>\n<p>703 rows × 5 columns</p>\n</div>"
     },
     "execution_count": 13,
     "metadata": {},
     "output_type": "execute_result"
    }
   ],
   "source": [
    "new_date"
   ],
   "metadata": {
    "collapsed": false,
    "pycharm": {
     "name": "#%%\n"
    }
   }
  },
  {
   "cell_type": "code",
   "execution_count": 14,
   "outputs": [],
   "source": [
    "df=new_date.groupby('generation').agg('mean')"
   ],
   "metadata": {
    "collapsed": false,
    "pycharm": {
     "name": "#%%\n"
    }
   }
  },
  {
   "cell_type": "code",
   "execution_count": 15,
   "outputs": [
    {
     "data": {
      "text/plain": "               attack    defense        战斗力\ngeneration                                 \n1           74.826087  69.521739  72.173913\n2           67.923913  70.065217  68.994565\n3           74.495798  68.327731  71.411765\n4           80.000000  71.733333  75.866667\n5           78.321429  69.928571  74.125000\n6           71.815385  69.923077  70.869231\n7           78.542373  73.661017  76.101695",
      "text/html": "<div>\n<style scoped>\n    .dataframe tbody tr th:only-of-type {\n        vertical-align: middle;\n    }\n\n    .dataframe tbody tr th {\n        vertical-align: top;\n    }\n\n    .dataframe thead th {\n        text-align: right;\n    }\n</style>\n<table border=\"1\" class=\"dataframe\">\n  <thead>\n    <tr style=\"text-align: right;\">\n      <th></th>\n      <th>attack</th>\n      <th>defense</th>\n      <th>战斗力</th>\n    </tr>\n    <tr>\n      <th>generation</th>\n      <th></th>\n      <th></th>\n      <th></th>\n    </tr>\n  </thead>\n  <tbody>\n    <tr>\n      <th>1</th>\n      <td>74.826087</td>\n      <td>69.521739</td>\n      <td>72.173913</td>\n    </tr>\n    <tr>\n      <th>2</th>\n      <td>67.923913</td>\n      <td>70.065217</td>\n      <td>68.994565</td>\n    </tr>\n    <tr>\n      <th>3</th>\n      <td>74.495798</td>\n      <td>68.327731</td>\n      <td>71.411765</td>\n    </tr>\n    <tr>\n      <th>4</th>\n      <td>80.000000</td>\n      <td>71.733333</td>\n      <td>75.866667</td>\n    </tr>\n    <tr>\n      <th>5</th>\n      <td>78.321429</td>\n      <td>69.928571</td>\n      <td>74.125000</td>\n    </tr>\n    <tr>\n      <th>6</th>\n      <td>71.815385</td>\n      <td>69.923077</td>\n      <td>70.869231</td>\n    </tr>\n    <tr>\n      <th>7</th>\n      <td>78.542373</td>\n      <td>73.661017</td>\n      <td>76.101695</td>\n    </tr>\n  </tbody>\n</table>\n</div>"
     },
     "execution_count": 15,
     "metadata": {},
     "output_type": "execute_result"
    }
   ],
   "source": [
    "df"
   ],
   "metadata": {
    "collapsed": false,
    "pycharm": {
     "name": "#%%\n"
    }
   }
  },
  {
   "cell_type": "code",
   "execution_count": null,
   "outputs": [],
   "source": [],
   "metadata": {
    "collapsed": false,
    "pycharm": {
     "name": "#%%\n"
    }
   }
  }
 ],
 "metadata": {
  "kernelspec": {
   "display_name": "Python 3",
   "language": "python",
   "name": "python3"
  },
  "language_info": {
   "codemirror_mode": {
    "name": "ipython",
    "version": 2
   },
   "file_extension": ".py",
   "mimetype": "text/x-python",
   "name": "python",
   "nbconvert_exporter": "python",
   "pygments_lexer": "ipython2",
   "version": "2.7.6"
  }
 },
 "nbformat": 4,
 "nbformat_minor": 0
}